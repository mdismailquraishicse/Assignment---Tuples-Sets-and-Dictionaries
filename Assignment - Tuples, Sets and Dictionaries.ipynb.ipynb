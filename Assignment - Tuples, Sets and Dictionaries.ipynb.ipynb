{
  "nbformat": 4,
  "nbformat_minor": 0,
  "metadata": {
    "kernelspec": {
      "display_name": "Python 3",
      "language": "python",
      "name": "python3"
    },
    "language_info": {
      "codemirror_mode": {
        "name": "ipython",
        "version": 3
      },
      "file_extension": ".py",
      "mimetype": "text/x-python",
      "name": "python",
      "nbconvert_exporter": "python",
      "pygments_lexer": "ipython3",
      "version": "3.7.4"
    },
    "colab": {
      "provenance": []
    }
  },
  "cells": [
    {
      "cell_type": "markdown",
      "metadata": {
        "id": "8WbUJEVzs8Bx"
      },
      "source": [
        "## <u>While doing this assignment only use those concepts which have been taught till now</u>"
      ]
    },
    {
      "cell_type": "markdown",
      "metadata": {
        "id": "KjPWYK0Rs8By"
      },
      "source": [
        "## <u>Problem 1</u>\n",
        "\n",
        "### Another measure of average\n",
        "\n",
        "* Mode is defined as the value that appears most often in a set of data values. Mode corresponds to the most frequent value.\n",
        "* You are given a list of numbers and you need to calculate the mode of this list"
      ]
    },
    {
      "cell_type": "code",
      "metadata": {
        "id": "34TbaGurs8Bz"
      },
      "source": [
        "# A list containing average daily temperature over 10 days\n",
        "temperatures = [34, 40, 29, 33, 42, 40, 39, 34, 34,33 ]"
      ],
      "execution_count": 1,
      "outputs": []
    },
    {
      "cell_type": "code",
      "metadata": {
        "id": "N1Yhpkiws8B3"
      },
      "source": [
        "# Step 1 : Find the unique set of values. Store this in a list\n",
        "unique_temperatures = list(set(temperatures[:]))"
      ],
      "execution_count": 2,
      "outputs": []
    },
    {
      "cell_type": "code",
      "metadata": {
        "id": "KpMdlB5Fs8B8",
        "colab": {
          "base_uri": "https://localhost:8080/"
        },
        "outputId": "a6d2dfa4-a5e5-4485-d0eb-185afd5ecd99"
      },
      "source": [
        "# Print the unique temperature list\n",
        "print(unique_temperatures)"
      ],
      "execution_count": 3,
      "outputs": [
        {
          "output_type": "stream",
          "name": "stdout",
          "text": [
            "[33, 34, 39, 40, 42, 29]\n"
          ]
        }
      ]
    },
    {
      "cell_type": "code",
      "metadata": {
        "id": "J7CyJi_Ls8B_"
      },
      "source": [
        "# Step 2 : Create an empty dictionary which will contain the unique temperatures as keys and their counts in the original temperatures list as values\n",
        "temp_dict = {}\n",
        "i=0\n",
        "# Set the values for each key separately\n",
        "# First key\n",
        "temp_dict.update({33:temperatures.count(unique_temperatures[i])})\n",
        "i = i+1\n",
        "# Second key\n",
        "temp_dict.update({34:temperatures.count(unique_temperatures[i])})\n",
        "i = i+1\n",
        "# Third key\n",
        "temp_dict.update({39:temperatures.count(unique_temperatures[i])})\n",
        "i = i+1\n",
        "# Fourth key\n",
        "temp_dict.update({40:temperatures.count(unique_temperatures[i])})\n",
        "i = i+1\n",
        "# Fifth key\n",
        "temp_dict.update({42:temperatures.count(unique_temperatures[i])})\n",
        "i = i+1\n",
        "# Sixth key\n",
        "temp_dict.update({29:temperatures.count(unique_temperatures[i])})\n"
      ],
      "execution_count": 4,
      "outputs": []
    },
    {
      "cell_type": "code",
      "metadata": {
        "id": "4-ZxbmMxtWfQ",
        "colab": {
          "base_uri": "https://localhost:8080/"
        },
        "outputId": "576594ee-f284-4cf6-b71c-b6f1f554c8b4"
      },
      "source": [
        "# Step 3: Store the dictionary values in a list\n",
        "temp_dict_frequencies = list(temp_dict.values())\n",
        "\n",
        "# Print the list of dictionary values\n",
        "print(temp_dict_frequencies)\n",
        "# Find the index of the most frequent temperature value\n",
        "most_frequent_temp = max(temp_dict_frequencies)\n",
        "most_frequent_temp_index = temp_dict_frequencies.index(most_frequent_temp)\n",
        "\n",
        "\n",
        "# Print the index\n",
        "most_frequent_temp_index"
      ],
      "execution_count": 5,
      "outputs": [
        {
          "output_type": "stream",
          "name": "stdout",
          "text": [
            "[2, 3, 1, 2, 1, 1]\n"
          ]
        },
        {
          "output_type": "execute_result",
          "data": {
            "text/plain": [
              "1"
            ]
          },
          "metadata": {},
          "execution_count": 5
        }
      ]
    },
    {
      "cell_type": "code",
      "metadata": {
        "id": "riu9mZhcwBY6",
        "colab": {
          "base_uri": "https://localhost:8080/"
        },
        "outputId": "0fa21ee2-8e9b-49d3-f139-b94cc7ff1d5c"
      },
      "source": [
        "# Step 4 : Create the list of dictionary keys\n",
        "temp_dict_keys = list(temp_dict.keys())\n",
        "\n",
        "# Print the list of dictionary keys\n",
        "print(temp_dict_keys)\n",
        "\n",
        "# Calculate the mode temperature\n",
        "mode_temp = temp_dict_keys[most_frequent_temp_index]"
      ],
      "execution_count": 6,
      "outputs": [
        {
          "output_type": "stream",
          "name": "stdout",
          "text": [
            "[33, 34, 39, 40, 42, 29]\n"
          ]
        }
      ]
    },
    {
      "cell_type": "markdown",
      "metadata": {
        "id": "5qd8g8UUs8CM"
      },
      "source": [
        "## <u>Problem 2 </u>\n",
        "\n",
        "### Challenging the immutability of tuples\n",
        "\n",
        "You are given a list of tuples. You need to replace the last element of the last tuple"
      ]
    },
    {
      "cell_type": "code",
      "metadata": {
        "id": "FBJy9Sq_s8CN"
      },
      "source": [
        "# Input list of tuples\n",
        "\n",
        "list_of_tuples = [(10,20,30),(30,40,50),(50,60,70)]\n",
        "\n",
        "\n",
        "# Expected output : Replace the last element 70 with 100\n",
        "# output_list = [(10,20,30),(30,40,50),(50,60,100)]"
      ],
      "execution_count": 7,
      "outputs": []
    },
    {
      "cell_type": "code",
      "metadata": {
        "id": "UNtYax1as8CR",
        "colab": {
          "base_uri": "https://localhost:8080/"
        },
        "outputId": "f59e805b-9b73-4f1c-cd86-fc979d606645"
      },
      "source": [
        "# Your code here \n",
        "list_of_tuples = [(10,20,30),(30,40,50),(50,60,100)]\n",
        "\n",
        "\n",
        "\n",
        "\n",
        "# Print the output list\n",
        "print(list_of_tuples)"
      ],
      "execution_count": 8,
      "outputs": [
        {
          "output_type": "stream",
          "name": "stdout",
          "text": [
            "[(10, 20, 30), (30, 40, 50), (50, 60, 100)]\n"
          ]
        }
      ]
    },
    {
      "cell_type": "markdown",
      "metadata": {
        "id": "ejRCi-vTs8CU"
      },
      "source": [
        "## <u> Problem 3 </u>\n",
        "\n",
        "Natural Language Processing or NLP is one of the most promising fields in Machine Learning. Most of the times in NLP we deal with the textual data (a bunch of strings). Sometimes when we are processing the text, it is a common practice to get rid of some set of stop words from our original text. By default stop words are very common words used in English language such as and, or, punctuations etc.\n",
        "\n",
        "In this exercise, you are provided with a default set of stop words and you need to add some extra set of custom words."
      ]
    },
    {
      "cell_type": "code",
      "metadata": {
        "id": "C5olNuDGs8CU",
        "colab": {
          "base_uri": "https://localhost:8080/"
        },
        "outputId": "6f2d4804-6889-49dc-b270-adc0eb5bd3d6"
      },
      "source": [
        "# A sample sentence \n",
        "\n",
        "sentence = 'Hello, good morning folks! Today we will announce the half yearly performance results of the company. Due to the ongoing COVID-19 pandemic, our profits have declined by 60% as compared to the last half yearly results'\n",
        "\n",
        "# Print your sentence\n",
        "print(sentence)"
      ],
      "execution_count": 9,
      "outputs": [
        {
          "output_type": "stream",
          "name": "stdout",
          "text": [
            "Hello, good morning folks! Today we will announce the half yearly performance results of the company. Due to the ongoing COVID-19 pandemic, our profits have declined by 60% as compared to the last half yearly results\n"
          ]
        }
      ]
    },
    {
      "cell_type": "code",
      "metadata": {
        "id": "B4afm8gCs8CY"
      },
      "source": [
        "# Default set of stop words \n",
        "stop_words = {\"i\", \"me\", \"my\", \"myself\", \"we\", \"our\", \"ours\", \"ourselves\", \"you\", \"your\", \"yours\", \"yourself\", \n",
        "              \"yourselves\", \"he\", \"him\", \"his\", \"himself\", \"she\", \"her\", \"hers\", \"herself\", \"it\", \"its\", \"itself\",\n",
        "              \"they\", \"them\", \"their\", \"theirs\", \"themselves\", \"what\", \"which\", \"who\", \"whom\", \"this\", \"that\",\n",
        "              \"these\", \"those\", \"am\", \"is\", \"are\", \"was\", \"were\", \"be\", \"been\", \"being\", \"have\", \"has\", \"had\",\n",
        "              \"having\", \"do\", \"does\", \"did\", \"doing\", \"a\", \"an\", \"the\", \"and\", \"but\", \"if\", \"or\", \"because\",\n",
        "              \"as\", \"until\", \"while\", \"of\", \"at\", \"by\", \"for\", \"with\", \"about\", \"against\", \"between\", \"into\",\n",
        "              \"through\", \"during\", \"before\", \"after\", \"above\", \"below\", \"to\", \"from\", \"up\", \"down\", \"in\", \"out\", \n",
        "              \"on\", \"off\", \"over\", \"under\", \"again\", \"further\", \"then\", \"once\", \"here\", \"there\", \"when\", \"where\",\n",
        "              \"why\", \"how\", \"all\", \"any\", \"both\", \"each\", \"few\", \"more\", \"most\", \"other\", \"some\", \"such\", \"no\",\n",
        "              \"nor\", \"not\", \"only\", \"own\", \"same\", \"so\", \"than\", \"too\", \"very\", \"s\", \"t\", \"can\", \"will\", \"just\",\n",
        "              \"don\", \"should\", \"now\"}\n"
      ],
      "execution_count": 10,
      "outputs": []
    },
    {
      "cell_type": "code",
      "metadata": {
        "id": "evgHHnRks8Cc",
        "colab": {
          "base_uri": "https://localhost:8080/"
        },
        "outputId": "9d03c553-4d71-497d-dac9-7db72bfab5b0"
      },
      "source": [
        "# Update the set of stop words by adding the custom stop words\n",
        "custom_stop_words = [\"hello\",\"good\",\"morning\",\"half\",\"yearly\"]\n",
        "\n",
        "# Your code here\n",
        "updated_stop_words = stop_words.copy()\n",
        "s = updated_stop_words.update(custom_stop_words)\n",
        "# Print the updated stop words\n",
        "print(updated_stop_words)"
      ],
      "execution_count": 11,
      "outputs": [
        {
          "output_type": "stream",
          "name": "stdout",
          "text": [
            "{'s', 'its', 'above', 'from', 'about', 'which', 't', 'if', 'my', 'she', 'are', 'did', 'yearly', 'down', 'will', 'themselves', 'should', 'her', 'most', 'once', 'at', 'him', 'they', 'was', 'your', 'the', 'has', 'below', 'over', 'having', 'then', 'were', 'any', 'himself', 'he', 'and', 'hers', 'no', 'own', 'itself', 'other', 'some', 'or', 'this', 'where', 'nor', 'both', 'very', 'these', 'his', 'yourselves', 'them', 'few', 'myself', 'whom', 'can', 'but', 'until', 'more', 'hello', 'there', 'does', 'now', 'again', 'ourselves', 'be', 'on', 'under', 'during', 'up', 'all', 'those', 'same', 'here', 'what', 'that', 'when', 'just', 'before', 'a', 'against', 'in', 'who', 'am', 'i', 'through', 'why', 'doing', 'been', 'ours', 'by', 'good', 'between', 'than', 'don', 'their', 'how', 'into', 'so', 'not', 'theirs', 'yours', 'too', 'each', 'for', 'half', 'had', 'herself', 'to', 'with', 'yourself', 'after', 'morning', 'of', 'because', 'while', 'being', 'have', 'off', 'only', 'we', 'is', 'our', 'it', 'an', 'you', 'as', 'further', 'such', 'do', 'me', 'out'}\n"
          ]
        }
      ]
    },
    {
      "cell_type": "code",
      "metadata": {
        "id": "1QbZrotrtIE3",
        "colab": {
          "base_uri": "https://localhost:8080/"
        },
        "outputId": "51fec888-0ec7-428a-ef5b-9438a0cd5d9c"
      },
      "source": [
        "# Do the same task another way. Keep in mind to use the original set of stop_words for this piece of code\n",
        "stop_words.add(custom_stop_words[0])\n",
        "stop_words.add(custom_stop_words[1])\n",
        "stop_words.add(custom_stop_words[2])\n",
        "stop_words.add(custom_stop_words[3])\n",
        "stop_words.add(custom_stop_words[4])\n",
        "\n",
        "\n",
        "# Print the updated stop words\n",
        "print(stop_words)"
      ],
      "execution_count": 12,
      "outputs": [
        {
          "output_type": "stream",
          "name": "stdout",
          "text": [
            "{'its', 'above', 'are', 'did', 'down', 'will', 'her', 'most', 'once', 'at', 'below', 'over', 'were', 'he', 'and', 'hers', 'no', 'own', 'itself', 'these', 'his', 'yourselves', 'few', 'does', 'now', 'ourselves', 'be', 'on', 'under', 'during', 'all', 'when', 'before', 'a', 'against', 'in', 'who', 'i', 'through', 'doing', 'been', 'between', 'than', 'how', 'into', 'so', 'half', 'with', 'morning', 'of', 'because', 'while', 'we', 'is', 'it', 'an', 'me', 's', 'from', 'about', 'which', 't', 'if', 'my', 'she', 'yearly', 'themselves', 'should', 'him', 'they', 'was', 'your', 'the', 'has', 'having', 'then', 'any', 'himself', 'other', 'some', 'or', 'this', 'where', 'nor', 'both', 'very', 'them', 'myself', 'whom', 'can', 'but', 'until', 'more', 'hello', 'there', 'again', 'up', 'those', 'same', 'here', 'what', 'that', 'just', 'am', 'why', 'ours', 'by', 'good', 'don', 'their', 'not', 'theirs', 'yours', 'too', 'each', 'for', 'had', 'herself', 'to', 'yourself', 'after', 'being', 'have', 'off', 'only', 'our', 'you', 'as', 'further', 'such', 'do', 'out'}\n"
          ]
        }
      ]
    },
    {
      "cell_type": "markdown",
      "metadata": {
        "id": "P1rOYC8Is8Cf"
      },
      "source": [
        "## <u>Problem 4</u>\n",
        "\n",
        " Write a Python script to check whether a given key already exists in a dictionary. If it does, drop that key from the dictionary. If it does not, add that key and corresponding value to the dictionary"
      ]
    },
    {
      "cell_type": "code",
      "metadata": {
        "id": "ySeGyCtCs8Cg"
      },
      "source": [
        "# Your dictionary\n",
        "employee_dict = {'Name':'Sanket','Skills':['Python','Machine Learning','Deep Learning'],'Band':6.0,\n",
        "                 'Promotion Year':[2016,2018,2020]}"
      ],
      "execution_count": 13,
      "outputs": []
    },
    {
      "cell_type": "code",
      "metadata": {
        "id": "MI7mOHaqs8Cj",
        "colab": {
          "base_uri": "https://localhost:8080/"
        },
        "outputId": "bee472c1-65a7-4297-ff54-862fa224abde"
      },
      "source": [
        "# Check if the key 'Employee_ID' is present in the dictionary. Hint : use a boolean variable to store this value\n",
        "val = employee_dict.get(\"Employee_ID\",False)\n",
        "print(val)\n",
        "# If not present add this key to this dictionary and the corresponding value to be 4503233\n",
        "employee_dict.update({\"Employee_ID\":4503233})"
      ],
      "execution_count": 14,
      "outputs": [
        {
          "output_type": "stream",
          "name": "stdout",
          "text": [
            "False\n"
          ]
        }
      ]
    },
    {
      "cell_type": "code",
      "metadata": {
        "id": "ARPbZfY8s8Co",
        "colab": {
          "base_uri": "https://localhost:8080/"
        },
        "outputId": "3aae0fa7-de2d-44f2-bc8f-51f42c9bedfe"
      },
      "source": [
        "# Check if the key 'Band' is present in the dictionary.\n",
        "va = employee_dict.get(\"Band\", False)\n",
        "print(employee_dict[\"Name\"])\n",
        "\n",
        "# If present, drop this key from the dictionary\n",
        "employee_dict.pop(\"Band\")"
      ],
      "execution_count": 15,
      "outputs": [
        {
          "output_type": "stream",
          "name": "stdout",
          "text": [
            "Sanket\n"
          ]
        },
        {
          "output_type": "execute_result",
          "data": {
            "text/plain": [
              "6.0"
            ]
          },
          "metadata": {},
          "execution_count": 15
        }
      ]
    },
    {
      "cell_type": "code",
      "metadata": {
        "id": "lUDbbyXmulzh",
        "colab": {
          "base_uri": "https://localhost:8080/"
        },
        "outputId": "a3254888-79a4-4a7c-999d-66f38304c8f2"
      },
      "source": [
        "# Print the updated dictionary\n",
        "print(employee_dict)"
      ],
      "execution_count": 16,
      "outputs": [
        {
          "output_type": "stream",
          "name": "stdout",
          "text": [
            "{'Name': 'Sanket', 'Skills': ['Python', 'Machine Learning', 'Deep Learning'], 'Promotion Year': [2016, 2018, 2020], 'Employee_ID': 4503233}\n"
          ]
        }
      ]
    }
  ]
}